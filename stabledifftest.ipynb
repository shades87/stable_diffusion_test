{
 "cells": [
  {
   "cell_type": "code",
   "execution_count": 1,
   "metadata": {},
   "outputs": [
    {
     "name": "stderr",
     "output_type": "stream",
     "text": [
      "C:\\Users\\dan_d\\AppData\\Local\\Packages\\PythonSoftwareFoundation.Python.3.11_qbz5n2kfra8p0\\LocalCache\\local-packages\\Python311\\site-packages\\tqdm\\auto.py:21: TqdmWarning: IProgress not found. Please update jupyter and ipywidgets. See https://ipywidgets.readthedocs.io/en/stable/user_install.html\n",
      "  from .autonotebook import tqdm as notebook_tqdm\n"
     ]
    }
   ],
   "source": [
    "import torch\n",
    "from diffusers import StableDiffusionPipeline\n",
    "\n",
    "#older version of stable diffusion\n",
    "model_id = \"runwayml/stable-diffusion-v1-5\"\n",
    "device = \"cuda\""
   ]
  },
  {
   "cell_type": "code",
   "execution_count": 2,
   "metadata": {},
   "outputs": [
    {
     "name": "stderr",
     "output_type": "stream",
     "text": [
      "C:\\Users\\dan_d\\AppData\\Local\\Packages\\PythonSoftwareFoundation.Python.3.11_qbz5n2kfra8p0\\LocalCache\\local-packages\\Python311\\site-packages\\huggingface_hub\\file_download.py:149: UserWarning: `huggingface_hub` cache-system uses symlinks by default to efficiently store duplicated files but your machine does not support them in C:\\Users\\dan_d\\.cache\\huggingface\\hub\\models--runwayml--stable-diffusion-v1-5. Caching files will still work but in a degraded version that might require more space on your disk. This warning can be disabled by setting the `HF_HUB_DISABLE_SYMLINKS_WARNING` environment variable. For more details, see https://huggingface.co/docs/huggingface_hub/how-to-cache#limitations.\n",
      "To support symlinks on Windows, you either need to activate Developer Mode or to run Python as an administrator. In order to see activate developer mode, see this article: https://docs.microsoft.com/en-us/windows/apps/get-started/enable-your-device-for-development\n",
      "  warnings.warn(message)\n",
      "Fetching 15 files: 100%|██████████| 15/15 [12:48<00:00, 51.26s/it]\n",
      "Loading pipeline components...: 100%|██████████| 7/7 [00:03<00:00,  2.31it/s]\n"
     ]
    }
   ],
   "source": [
    "pipe = StableDiffusionPipeline.from_pretrained(model_id, torch_dtype=torch.float16)\n",
    "pipe = pipe.to(device)\n",
    "\n"
   ]
  },
  {
   "cell_type": "code",
   "execution_count": 3,
   "metadata": {},
   "outputs": [
    {
     "name": "stderr",
     "output_type": "stream",
     "text": [
      "  0%|          | 0/50 [00:00<?, ?it/s]C:\\Users\\dan_d\\AppData\\Local\\Packages\\PythonSoftwareFoundation.Python.3.11_qbz5n2kfra8p0\\LocalCache\\local-packages\\Python311\\site-packages\\diffusers\\models\\attention_processor.py:1279: UserWarning: 1Torch was not compiled with flash attention. (Triggered internally at ..\\aten\\src\\ATen\\native\\transformers\\cuda\\sdp_utils.cpp:263.)\n",
      "  hidden_states = F.scaled_dot_product_attention(\n",
      "100%|██████████| 50/50 [01:13<00:00,  1.47s/it]\n"
     ]
    }
   ],
   "source": [
    "prompt = \"Building with structural damage\"\n",
    "image = pipe(prompt).images[0]  \n",
    "    \n",
    "image.save(\"building_with_structural_damage.png\")"
   ]
  },
  {
   "cell_type": "code",
   "execution_count": 4,
   "metadata": {},
   "outputs": [
    {
     "name": "stderr",
     "output_type": "stream",
     "text": [
      "  0%|          | 0/50 [00:00<?, ?it/s]"
     ]
    },
    {
     "name": "stderr",
     "output_type": "stream",
     "text": [
      "100%|██████████| 50/50 [01:11<00:00,  1.44s/it]\n"
     ]
    }
   ],
   "source": [
    "prompt = \"Concrete wall with major damage\"\n",
    "image = pipe(prompt).images[0]  \n",
    "    \n",
    "image.save(\"concrete_with_structural_damage.png\")"
   ]
  },
  {
   "cell_type": "code",
   "execution_count": 5,
   "metadata": {},
   "outputs": [
    {
     "name": "stderr",
     "output_type": "stream",
     "text": [
      "  0%|          | 0/50 [00:00<?, ?it/s]"
     ]
    },
    {
     "name": "stderr",
     "output_type": "stream",
     "text": [
      "100%|██████████| 50/50 [01:13<00:00,  1.46s/it]\n"
     ]
    }
   ],
   "source": [
    "prompt = \"Wall with damage\"\n",
    "image = pipe(prompt).images[0]  \n",
    "    \n",
    "image.save(\"wall_with_damage.png\")"
   ]
  },
  {
   "cell_type": "code",
   "execution_count": 6,
   "metadata": {},
   "outputs": [
    {
     "name": "stderr",
     "output_type": "stream",
     "text": [
      "100%|██████████| 50/50 [01:12<00:00,  1.46s/it]\n"
     ]
    }
   ],
   "source": [
    "prompt = \"Mario and Luigi having an after work drink at a sports bar\"\n",
    "image = pipe(prompt).images[0]  \n",
    "    \n",
    "image.save(\"mario_and_luigi_relax.png\")"
   ]
  },
  {
   "cell_type": "code",
   "execution_count": null,
   "metadata": {},
   "outputs": [
    {
     "data": {
      "application/vnd.jupyter.widget-view+json": {
       "model_id": "84f89262b0774a88bc7baa89e690e890",
       "version_major": 2,
       "version_minor": 0
      },
      "text/plain": [
       "  0%|          | 0/50 [00:00<?, ?it/s]"
      ]
     },
     "metadata": {},
     "output_type": "display_data"
    }
   ],
   "source": [
    "prompt = \"Melbourne Townhouse\"\n",
    "image = pipe(prompt).images[0]  \n",
    "    \n",
    "image.save(\"melbourne_townhouse.png\")"
   ]
  },
  {
   "cell_type": "code",
   "execution_count": null,
   "metadata": {},
   "outputs": [
    {
     "data": {
      "application/vnd.jupyter.widget-view+json": {
       "model_id": "a3e8938501584ea3927abb7d58cd146b",
       "version_major": 2,
       "version_minor": 0
      },
      "text/plain": [
       "  0%|          | 0/50 [00:00<?, ?it/s]"
      ]
     },
     "metadata": {},
     "output_type": "display_data"
    }
   ],
   "source": [
    "prompt = \"Melbourne Townhouse with large cracks\"\n",
    "image = pipe(prompt).images[0]  \n",
    "    \n",
    "image.save(\"melbourne_townhouse_cracks.png\")"
   ]
  },
  {
   "cell_type": "code",
   "execution_count": null,
   "metadata": {},
   "outputs": [
    {
     "data": {
      "application/vnd.jupyter.widget-view+json": {
       "model_id": "f006b242a8ae4470add8ddf47b833a8f",
       "version_major": 2,
       "version_minor": 0
      },
      "text/plain": [
       "  0%|          | 0/50 [00:00<?, ?it/s]"
      ]
     },
     "metadata": {},
     "output_type": "display_data"
    }
   ],
   "source": [
    "prompt = \"Victorian Era Melbourne Townhouse\"\n",
    "image = pipe(prompt).images[0]  \n",
    "    \n",
    "image.save(\"victoarian_melbourne_townhouse.png\")"
   ]
  },
  {
   "cell_type": "code",
   "execution_count": null,
   "metadata": {},
   "outputs": [
    {
     "data": {
      "application/vnd.jupyter.widget-view+json": {
       "model_id": "634301c1af5646928bbffaab4f90431d",
       "version_major": 2,
       "version_minor": 0
      },
      "text/plain": [
       "  0%|          | 0/50 [00:00<?, ?it/s]"
      ]
     },
     "metadata": {},
     "output_type": "display_data"
    }
   ],
   "source": [
    "prompt = \"Victorian Era Melbourne Townhouse with damage\"\n",
    "image = pipe(prompt).images[0]  \n",
    "    \n",
    "image.save(\"victoarian_melbourne_townhouse_damage.png\")"
   ]
  },
  {
   "cell_type": "code",
   "execution_count": null,
   "metadata": {},
   "outputs": [
    {
     "data": {
      "application/vnd.jupyter.widget-view+json": {
       "model_id": "9a159d7412014b968e615b387e1f776e",
       "version_major": 2,
       "version_minor": 0
      },
      "text/plain": [
       "  0%|          | 0/50 [00:00<?, ?it/s]"
      ]
     },
     "metadata": {},
     "output_type": "display_data"
    }
   ],
   "source": [
    "prompt = \"road with potholes\"\n",
    "image = pipe(prompt).images[0]  \n",
    "    \n",
    "image.save(\"road_potholes.png\")"
   ]
  },
  {
   "cell_type": "code",
   "execution_count": null,
   "metadata": {},
   "outputs": [
    {
     "name": "stderr",
     "output_type": "stream",
     "text": [
      "100%|██████████| 50/50 [01:26<00:00,  1.74s/it]\n",
      "100%|██████████| 50/50 [01:26<00:00,  1.74s/it]\n",
      "100%|██████████| 50/50 [01:26<00:00,  1.74s/it]\n",
      "100%|██████████| 50/50 [01:27<00:00,  1.74s/it]\n",
      "100%|██████████| 50/50 [01:25<00:00,  1.72s/it]\n",
      "100%|██████████| 50/50 [01:26<00:00,  1.73s/it]\n",
      "100%|██████████| 50/50 [01:26<00:00,  1.73s/it]\n",
      "100%|██████████| 50/50 [01:26<00:00,  1.73s/it]\n",
      "100%|██████████| 50/50 [01:26<00:00,  1.74s/it]\n",
      "100%|██████████| 50/50 [01:26<00:00,  1.73s/it]\n",
      "100%|██████████| 50/50 [01:26<00:00,  1.74s/it]\n",
      "100%|██████████| 50/50 [01:26<00:00,  1.74s/it]\n",
      "100%|██████████| 50/50 [01:27<00:00,  1.74s/it]\n",
      "100%|██████████| 50/50 [01:26<00:00,  1.74s/it]\n",
      "100%|██████████| 50/50 [01:27<00:00,  1.74s/it]\n",
      "100%|██████████| 50/50 [01:26<00:00,  1.73s/it]\n",
      "100%|██████████| 50/50 [01:26<00:00,  1.74s/it]\n",
      "100%|██████████| 50/50 [01:26<00:00,  1.74s/it]\n",
      "100%|██████████| 50/50 [01:26<00:00,  1.74s/it]\n",
      "100%|██████████| 50/50 [01:26<00:00,  1.73s/it]\n",
      "100%|██████████| 50/50 [01:26<00:00,  1.73s/it]\n",
      "100%|██████████| 50/50 [01:26<00:00,  1.73s/it]\n",
      "100%|██████████| 50/50 [01:26<00:00,  1.73s/it]\n",
      "100%|██████████| 50/50 [01:26<00:00,  1.73s/it]\n",
      "100%|██████████| 50/50 [01:26<00:00,  1.74s/it]\n",
      "100%|██████████| 50/50 [01:26<00:00,  1.74s/it]\n",
      "100%|██████████| 50/50 [01:25<00:00,  1.71s/it]\n",
      "100%|██████████| 50/50 [01:19<00:00,  1.59s/it]\n",
      "100%|██████████| 50/50 [01:19<00:00,  1.59s/it]\n",
      "100%|██████████| 50/50 [01:19<00:00,  1.59s/it]\n",
      "100%|██████████| 50/50 [01:20<00:00,  1.60s/it]\n",
      "100%|██████████| 50/50 [01:19<00:00,  1.59s/it]\n",
      "100%|██████████| 50/50 [01:19<00:00,  1.58s/it]\n",
      "100%|██████████| 50/50 [01:19<00:00,  1.59s/it]\n",
      "100%|██████████| 50/50 [01:24<00:00,  1.68s/it]\n",
      "100%|██████████| 50/50 [01:23<00:00,  1.67s/it]\n",
      "100%|██████████| 50/50 [01:23<00:00,  1.67s/it]\n",
      "100%|██████████| 50/50 [01:23<00:00,  1.67s/it]\n",
      "100%|██████████| 50/50 [01:23<00:00,  1.67s/it]\n",
      "100%|██████████| 50/50 [01:23<00:00,  1.67s/it]\n"
     ]
    }
   ],
   "source": [
    "#let's try and generate different levels of damage\n",
    "#it takes around 86 seconds on this machine to create and save each image\n",
    "#to create a dataset of 4000 images it would take 95.5 hours which is just under 4 days\n",
    "\n",
    "#for i in range(10):\n",
    "    #prompt = \"Wall with no damage\"\n",
    "    #image = pipe(prompt).images[0]  \n",
    "        \n",
    "    #image.save(\"wall_no_damage\"+str(i)+\".png\")\n",
    "\n",
    "    #prompt = \"Wall with minor damage\"\n",
    "    #image = pipe(prompt).images[0]  \n",
    "        \n",
    "    #image.save(\"wall_minor_damage\"+str(i)+\".png\")\n",
    "\n",
    "    #prompt = \"Wall with major damage\"\n",
    "    #image = pipe(prompt).images[0]  \n",
    "        \n",
    "    #image.save(\"wall_major_damage\"+str(i)+\".png\")\n",
    "\n",
    "    #prompt = \"Wall with total damage\"\n",
    "    #image = pipe(prompt).images[0]  \n",
    "        \n",
    "    #image.save(\"wall_total_damage\"+str(i)+\".png\")"
   ]
  },
  {
   "cell_type": "code",
   "execution_count": null,
   "metadata": {},
   "outputs": [
    {
     "data": {
      "application/vnd.jupyter.widget-view+json": {
       "model_id": "8d27d4406c6d4d5eaf26171f8ed625f4",
       "version_major": 2,
       "version_minor": 0
      },
      "text/plain": [
       "  0%|          | 0/50 [00:00<?, ?it/s]"
      ]
     },
     "metadata": {},
     "output_type": "display_data"
    }
   ],
   "source": [
    "prompt = \"George the Glory gorilla in a bank\"\n",
    "image = pipe(prompt).images[0]  \n",
    "    \n",
    "image.save(\"George_Glory_Gorilla.png\")"
   ]
  },
  {
   "cell_type": "code",
   "execution_count": null,
   "metadata": {},
   "outputs": [
    {
     "data": {
      "application/vnd.jupyter.widget-view+json": {
       "model_id": "7298bfdb85e34933be2dd7d4a63343b0",
       "version_major": 2,
       "version_minor": 0
      },
      "text/plain": [
       "  0%|          | 0/50 [00:00<?, ?it/s]"
      ]
     },
     "metadata": {},
     "output_type": "display_data"
    }
   ],
   "source": [
    "prompt = \"Border collie wearing a hat and driving a tractor\"\n",
    "image = pipe(prompt).images[0]  \n",
    "    \n",
    "image.save(\"Doggos.png\")"
   ]
  },
  {
   "cell_type": "code",
   "execution_count": null,
   "metadata": {},
   "outputs": [
    {
     "data": {
      "application/vnd.jupyter.widget-view+json": {
       "model_id": "15bf5980738b4b6f966fb70c6048ee38",
       "version_major": 2,
       "version_minor": 0
      },
      "text/plain": [
       "  0%|          | 0/50 [00:00<?, ?it/s]"
      ]
     },
     "metadata": {},
     "output_type": "display_data"
    }
   ],
   "source": [
    "prompt = \"Ewoks in Perth Western Australia\"\n",
    "image = pipe(prompt).images[0]  \n",
    "    \n",
    "image.save(\"Ewoks.png\")"
   ]
  },
  {
   "cell_type": "code",
   "execution_count": null,
   "metadata": {},
   "outputs": [
    {
     "data": {
      "application/vnd.jupyter.widget-view+json": {
       "model_id": "becfdfa2248f4792b7b4cb03e61d26f7",
       "version_major": 2,
       "version_minor": 0
      },
      "text/plain": [
       "  0%|          | 0/50 [00:00<?, ?it/s]"
      ]
     },
     "metadata": {},
     "output_type": "display_data"
    }
   ],
   "source": [
    "prompt = \"Blue heeler dog wearing a tuxedo\"\n",
    "image = pipe(prompt).images[0]  \n",
    "    \n",
    "image.save(\"Tux-Dog.png\")"
   ]
  },
  {
   "cell_type": "code",
   "execution_count": null,
   "metadata": {},
   "outputs": [
    {
     "data": {
      "application/vnd.jupyter.widget-view+json": {
       "model_id": "6bbe0494cf8644478e409ab09a8dc851",
       "version_major": 2,
       "version_minor": 0
      },
      "text/plain": [
       "  0%|          | 0/50 [00:00<?, ?it/s]"
      ]
     },
     "metadata": {},
     "output_type": "display_data"
    }
   ],
   "source": [
    "prompt = \"Dog with a knife looking suspicious\"\n",
    "image = pipe(prompt).images[0]  \n",
    "    \n",
    "image.save(\"Murder_dog.png\")"
   ]
  },
  {
   "cell_type": "code",
   "execution_count": null,
   "metadata": {},
   "outputs": [
    {
     "data": {
      "application/vnd.jupyter.widget-view+json": {
       "model_id": "f3a35c3b2a79467fbbce636d4eab1083",
       "version_major": 2,
       "version_minor": 0
      },
      "text/plain": [
       "  0%|          | 0/50 [00:00<?, ?it/s]"
      ]
     },
     "metadata": {},
     "output_type": "display_data"
    }
   ],
   "source": [
    "prompt = \"Donkey Kong and King Kong relax with Funky Kong\"\n",
    "image = pipe(prompt).images[0]  \n",
    "    \n",
    "image.save(\"Kong.png\")"
   ]
  },
  {
   "cell_type": "code",
   "execution_count": null,
   "metadata": {},
   "outputs": [
    {
     "data": {
      "application/vnd.jupyter.widget-view+json": {
       "model_id": "7591c7e23037467bba7c1414547df462",
       "version_major": 2,
       "version_minor": 0
      },
      "text/plain": [
       "  0%|          | 0/50 [00:00<?, ?it/s]"
      ]
     },
     "metadata": {},
     "output_type": "display_data"
    }
   ],
   "source": [
    "prompt = \"Hyper realistic monkey monarch wearing kingly crown\"\n",
    "image = pipe(prompt).images[0]  \n",
    "    \n",
    "image.save(\"monke.png\")"
   ]
  },
  {
   "cell_type": "code",
   "execution_count": null,
   "metadata": {},
   "outputs": [
    {
     "data": {
      "application/vnd.jupyter.widget-view+json": {
       "model_id": "ead2267be390478b8f9c0e9e21fcb06a",
       "version_major": 2,
       "version_minor": 0
      },
      "text/plain": [
       "  0%|          | 0/50 [00:00<?, ?it/s]"
      ]
     },
     "metadata": {},
     "output_type": "display_data"
    }
   ],
   "source": [
    "prompt = \"Donkey Kong with hyper realistic Julius Ceasar and the Ides of March\"\n",
    "image = pipe(prompt).images[0]  \n",
    "    \n",
    "image.save(\"March.png\")"
   ]
  },
  {
   "cell_type": "code",
   "execution_count": null,
   "metadata": {},
   "outputs": [
    {
     "data": {
      "application/vnd.jupyter.widget-view+json": {
       "model_id": "3d99a2b54a584846bc1769a8cac278b0",
       "version_major": 2,
       "version_minor": 0
      },
      "text/plain": [
       "  0%|          | 0/50 [00:00<?, ?it/s]"
      ]
     },
     "metadata": {},
     "output_type": "display_data"
    },
    {
     "name": "stderr",
     "output_type": "stream",
     "text": [
      "C:\\Users\\dan_d\\AppData\\Local\\Packages\\PythonSoftwareFoundation.Python.3.12_qbz5n2kfra8p0\\LocalCache\\local-packages\\Python312\\site-packages\\diffusers\\models\\attention_processor.py:1279: UserWarning: 1Torch was not compiled with flash attention. (Triggered internally at ..\\aten\\src\\ATen\\native\\transformers\\cuda\\sdp_utils.cpp:263.)\n",
      "  hidden_states = F.scaled_dot_product_attention(\n"
     ]
    }
   ],
   "source": [
    "prompt = \"Manchest United Home Game\"\n",
    "image = pipe(prompt).images[0]  \n",
    "    \n",
    "image.save(\"Man_U.png\")"
   ]
  },
  {
   "cell_type": "code",
   "execution_count": 4,
   "metadata": {},
   "outputs": [
    {
     "name": "stderr",
     "output_type": "stream",
     "text": [
      "  0%|          | 0/50 [00:00<?, ?it/s]C:\\Users\\dan_d\\AppData\\Local\\Packages\\PythonSoftwareFoundation.Python.3.11_qbz5n2kfra8p0\\LocalCache\\local-packages\\Python311\\site-packages\\diffusers\\models\\attention_processor.py:1279: UserWarning: 1Torch was not compiled with flash attention. (Triggered internally at ..\\aten\\src\\ATen\\native\\transformers\\cuda\\sdp_utils.cpp:263.)\n",
      "  hidden_states = F.scaled_dot_product_attention(\n",
      "100%|██████████| 50/50 [01:16<00:00,  1.54s/it]\n"
     ]
    }
   ],
   "source": [
    "prompt = \"Ange Postecoglou sad\"\n",
    "image = pipe(prompt).images[0]  \n",
    "    \n",
    "image.save(\"Sad_ange.png\")"
   ]
  },
  {
   "cell_type": "code",
   "execution_count": 1,
   "metadata": {},
   "outputs": [
    {
     "ename": "NameError",
     "evalue": "name 'pipe' is not defined",
     "output_type": "error",
     "traceback": [
      "\u001b[1;31m---------------------------------------------------------------------------\u001b[0m",
      "\u001b[1;31mNameError\u001b[0m                                 Traceback (most recent call last)",
      "Cell \u001b[1;32mIn[1], line 2\u001b[0m\n\u001b[0;32m      1\u001b[0m prompt \u001b[38;5;241m=\u001b[39m \u001b[38;5;124m\"\u001b[39m\u001b[38;5;124mJeff feeding the kookaburras and magpies\u001b[39m\u001b[38;5;124m\"\u001b[39m\n\u001b[1;32m----> 2\u001b[0m image \u001b[38;5;241m=\u001b[39m \u001b[43mpipe\u001b[49m(prompt)\u001b[38;5;241m.\u001b[39mimages[\u001b[38;5;241m0\u001b[39m]  \n\u001b[0;32m      4\u001b[0m image\u001b[38;5;241m.\u001b[39msave(\u001b[38;5;124m\"\u001b[39m\u001b[38;5;124mbird.png\u001b[39m\u001b[38;5;124m\"\u001b[39m)\n",
      "\u001b[1;31mNameError\u001b[0m: name 'pipe' is not defined"
     ]
    }
   ],
   "source": [
    "prompt = \"Jeff feeding the kookaburras and magpies\"\n",
    "image = pipe(prompt).images[0]  \n",
    "    \n",
    "image.save(\"bird.png\")"
   ]
  },
  {
   "cell_type": "code",
   "execution_count": 3,
   "metadata": {},
   "outputs": [
    {
     "name": "stderr",
     "output_type": "stream",
     "text": [
      "  0%|          | 0/50 [00:00<?, ?it/s]C:\\Users\\dan_d\\AppData\\Local\\Packages\\PythonSoftwareFoundation.Python.3.11_qbz5n2kfra8p0\\LocalCache\\local-packages\\Python311\\site-packages\\diffusers\\models\\attention_processor.py:1279: UserWarning: 1Torch was not compiled with flash attention. (Triggered internally at ..\\aten\\src\\ATen\\native\\transformers\\cuda\\sdp_utils.cpp:263.)\n",
      "  hidden_states = F.scaled_dot_product_attention(\n",
      "100%|██████████| 50/50 [12:03<00:00, 14.47s/it]\n"
     ]
    }
   ],
   "source": [
    "prompt = \"Watching the socceroos play in Federation Square\"\n",
    "image = pipe(prompt).images[0]  \n",
    "    \n",
    "image.save(\"soccer.png\")"
   ]
  }
 ],
 "metadata": {
  "kernelspec": {
   "display_name": "Python 3",
   "language": "python",
   "name": "python3"
  },
  "language_info": {
   "codemirror_mode": {
    "name": "ipython",
    "version": 3
   },
   "file_extension": ".py",
   "mimetype": "text/x-python",
   "name": "python",
   "nbconvert_exporter": "python",
   "pygments_lexer": "ipython3",
   "version": "3.11.8"
  }
 },
 "nbformat": 4,
 "nbformat_minor": 2
}
