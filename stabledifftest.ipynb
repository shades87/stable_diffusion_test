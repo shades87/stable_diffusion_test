{
 "cells": [
  {
   "cell_type": "code",
   "execution_count": 1,
   "metadata": {},
   "outputs": [
    {
     "name": "stderr",
     "output_type": "stream",
     "text": [
      "C:\\Users\\dan_d\\AppData\\Local\\Packages\\PythonSoftwareFoundation.Python.3.12_qbz5n2kfra8p0\\LocalCache\\local-packages\\Python312\\site-packages\\tqdm\\auto.py:21: TqdmWarning: IProgress not found. Please update jupyter and ipywidgets. See https://ipywidgets.readthedocs.io/en/stable/user_install.html\n",
      "  from .autonotebook import tqdm as notebook_tqdm\n"
     ]
    }
   ],
   "source": [
    "import torch\n",
    "from diffusers import StableDiffusionPipeline\n",
    "\n",
    "#older version of stable diffusion\n",
    "model_id = \"CompVis/stable-diffusion-v1-4\"\n",
    "device = \"cuda\""
   ]
  },
  {
   "cell_type": "code",
   "execution_count": 5,
   "metadata": {},
   "outputs": [
    {
     "name": "stderr",
     "output_type": "stream",
     "text": [
      "Loading pipeline components...: 100%|██████████| 7/7 [00:02<00:00,  2.66it/s]\n",
      "100%|██████████| 50/50 [01:09<00:00,  1.39s/it]\n"
     ]
    }
   ],
   "source": [
    "pipe = StableDiffusionPipeline.from_pretrained(model_id, torch_dtype=torch.float16)\n",
    "pipe = pipe.to(device)\n",
    "\n"
   ]
  },
  {
   "cell_type": "code",
   "execution_count": 8,
   "metadata": {},
   "outputs": [
    {
     "name": "stderr",
     "output_type": "stream",
     "text": [
      "100%|██████████| 50/50 [01:08<00:00,  1.37s/it]\n"
     ]
    }
   ],
   "source": [
    "prompt = \"Building with structural damage\"\n",
    "image = pipe(prompt).images[0]  \n",
    "    \n",
    "image.save(\"building_with_structural_damage.png\")"
   ]
  },
  {
   "cell_type": "code",
   "execution_count": 9,
   "metadata": {},
   "outputs": [
    {
     "name": "stderr",
     "output_type": "stream",
     "text": [
      "100%|██████████| 50/50 [01:08<00:00,  1.37s/it]\n"
     ]
    }
   ],
   "source": [
    "prompt = \"Concrete wall with major damage\"\n",
    "image = pipe(prompt).images[0]  \n",
    "    \n",
    "image.save(\"concrete_with_structural_damage.png\")"
   ]
  },
  {
   "cell_type": "code",
   "execution_count": 10,
   "metadata": {},
   "outputs": [
    {
     "name": "stderr",
     "output_type": "stream",
     "text": [
      "  0%|          | 0/50 [00:00<?, ?it/s]"
     ]
    },
    {
     "name": "stderr",
     "output_type": "stream",
     "text": [
      "100%|██████████| 50/50 [01:08<00:00,  1.37s/it]\n"
     ]
    }
   ],
   "source": [
    "prompt = \"Wall with damage\"\n",
    "image = pipe(prompt).images[0]  \n",
    "    \n",
    "image.save(\"wall_with_damage.png\")"
   ]
  },
  {
   "cell_type": "code",
   "execution_count": 11,
   "metadata": {},
   "outputs": [
    {
     "name": "stderr",
     "output_type": "stream",
     "text": [
      "100%|██████████| 50/50 [01:08<00:00,  1.37s/it]\n"
     ]
    }
   ],
   "source": [
    "prompt = \"Mario and Luigi having an after work drink at a sports bar\"\n",
    "image = pipe(prompt).images[0]  \n",
    "    \n",
    "image.save(\"mario_and_luigi_relax.png\")"
   ]
  },
  {
   "cell_type": "code",
   "execution_count": 12,
   "metadata": {},
   "outputs": [
    {
     "name": "stderr",
     "output_type": "stream",
     "text": [
      "100%|██████████| 50/50 [01:08<00:00,  1.37s/it]\n"
     ]
    }
   ],
   "source": [
    "prompt = \"Melbourne Townhouse\"\n",
    "image = pipe(prompt).images[0]  \n",
    "    \n",
    "image.save(\"melbourne_townhouse.png\")"
   ]
  },
  {
   "cell_type": "code",
   "execution_count": 13,
   "metadata": {},
   "outputs": [
    {
     "name": "stderr",
     "output_type": "stream",
     "text": [
      "100%|██████████| 50/50 [01:08<00:00,  1.37s/it]\n"
     ]
    }
   ],
   "source": [
    "prompt = \"Melbourne Townhouse with large cracks\"\n",
    "image = pipe(prompt).images[0]  \n",
    "    \n",
    "image.save(\"melbourne_townhouse_cracks.png\")"
   ]
  },
  {
   "cell_type": "code",
   "execution_count": 14,
   "metadata": {},
   "outputs": [
    {
     "name": "stderr",
     "output_type": "stream",
     "text": [
      "100%|██████████| 50/50 [01:08<00:00,  1.37s/it]\n"
     ]
    }
   ],
   "source": [
    "prompt = \"Victorian Era Melbourne Townhouse\"\n",
    "image = pipe(prompt).images[0]  \n",
    "    \n",
    "image.save(\"victoarian_melbourne_townhouse.png\")"
   ]
  },
  {
   "cell_type": "code",
   "execution_count": 15,
   "metadata": {},
   "outputs": [
    {
     "name": "stderr",
     "output_type": "stream",
     "text": [
      "100%|██████████| 50/50 [01:08<00:00,  1.37s/it]\n"
     ]
    }
   ],
   "source": [
    "prompt = \"Victorian Era Melbourne Townhouse with damage\"\n",
    "image = pipe(prompt).images[0]  \n",
    "    \n",
    "image.save(\"victoarian_melbourne_townhouse_damage.png\")"
   ]
  },
  {
   "cell_type": "code",
   "execution_count": 16,
   "metadata": {},
   "outputs": [
    {
     "name": "stderr",
     "output_type": "stream",
     "text": [
      "100%|██████████| 50/50 [01:08<00:00,  1.37s/it]\n"
     ]
    }
   ],
   "source": [
    "prompt = \"road with potholes\"\n",
    "image = pipe(prompt).images[0]  \n",
    "    \n",
    "image.save(\"road_potholes.png\")"
   ]
  },
  {
   "cell_type": "code",
   "execution_count": 22,
   "metadata": {},
   "outputs": [
    {
     "name": "stderr",
     "output_type": "stream",
     "text": [
      "100%|██████████| 50/50 [01:26<00:00,  1.74s/it]\n",
      "100%|██████████| 50/50 [01:26<00:00,  1.74s/it]\n",
      "100%|██████████| 50/50 [01:26<00:00,  1.74s/it]\n",
      "100%|██████████| 50/50 [01:27<00:00,  1.74s/it]\n",
      "100%|██████████| 50/50 [01:25<00:00,  1.72s/it]\n",
      "100%|██████████| 50/50 [01:26<00:00,  1.73s/it]\n",
      "100%|██████████| 50/50 [01:26<00:00,  1.73s/it]\n",
      "100%|██████████| 50/50 [01:26<00:00,  1.73s/it]\n",
      "100%|██████████| 50/50 [01:26<00:00,  1.74s/it]\n",
      "100%|██████████| 50/50 [01:26<00:00,  1.73s/it]\n",
      "100%|██████████| 50/50 [01:26<00:00,  1.74s/it]\n",
      "100%|██████████| 50/50 [01:26<00:00,  1.74s/it]\n",
      "100%|██████████| 50/50 [01:27<00:00,  1.74s/it]\n",
      "100%|██████████| 50/50 [01:26<00:00,  1.74s/it]\n",
      "100%|██████████| 50/50 [01:27<00:00,  1.74s/it]\n",
      "100%|██████████| 50/50 [01:26<00:00,  1.73s/it]\n",
      "100%|██████████| 50/50 [01:26<00:00,  1.74s/it]\n",
      "100%|██████████| 50/50 [01:26<00:00,  1.74s/it]\n",
      "100%|██████████| 50/50 [01:26<00:00,  1.74s/it]\n",
      "100%|██████████| 50/50 [01:26<00:00,  1.73s/it]\n",
      "100%|██████████| 50/50 [01:26<00:00,  1.73s/it]\n",
      "100%|██████████| 50/50 [01:26<00:00,  1.73s/it]\n",
      " 26%|██▌       | 13/50 [00:23<01:02,  1.70s/it]"
     ]
    }
   ],
   "source": [
    "#let's try and generate different levels of damage\n",
    "#it takes around 86 seconds on this machine to create and save each image\n",
    "#to create a dataset of 4000 images it would take 95.5 hours which is just under 4 days\n",
    "\n",
    "for i in range(10):\n",
    "    prompt = \"Wall with no damage\"\n",
    "    image = pipe(prompt).images[0]  \n",
    "        \n",
    "    image.save(\"wall_no_damage\"+str(i)+\".png\")\n",
    "\n",
    "    prompt = \"Wall with minor damage\"\n",
    "    image = pipe(prompt).images[0]  \n",
    "        \n",
    "    image.save(\"wall_minor_damage\"+str(i)+\".png\")\n",
    "\n",
    "    prompt = \"Wall with major damage\"\n",
    "    image = pipe(prompt).images[0]  \n",
    "        \n",
    "    image.save(\"wall_major_damage\"+str(i)+\".png\")\n",
    "\n",
    "    prompt = \"Wall with total damage\"\n",
    "    image = pipe(prompt).images[0]  \n",
    "        \n",
    "    image.save(\"wall_total_damage\"+str(i)+\".png\")"
   ]
  }
 ],
 "metadata": {
  "kernelspec": {
   "display_name": "Python 3",
   "language": "python",
   "name": "python3"
  },
  "language_info": {
   "codemirror_mode": {
    "name": "ipython",
    "version": 3
   },
   "file_extension": ".py",
   "mimetype": "text/x-python",
   "name": "python",
   "nbconvert_exporter": "python",
   "pygments_lexer": "ipython3",
   "version": "3.12.2"
  }
 },
 "nbformat": 4,
 "nbformat_minor": 2
}
