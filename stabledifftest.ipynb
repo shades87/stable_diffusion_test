{
 "cells": [
  {
   "cell_type": "code",
   "execution_count": 1,
   "metadata": {},
   "outputs": [],
   "source": [
    "import torch\n",
    "from diffusers import StableDiffusionPipeline\n",
    "\n",
    "#older version of stable diffusion\n",
    "model_id = \"CompVis/stable-diffusion-v1-4\"\n",
    "device = \"cuda\""
   ]
  },
  {
   "cell_type": "code",
   "execution_count": 2,
   "metadata": {},
   "outputs": [
    {
     "data": {
      "application/vnd.jupyter.widget-view+json": {
       "model_id": "a9b94a0ff68f4f11b3869cc1bb93accd",
       "version_major": 2,
       "version_minor": 0
      },
      "text/plain": [
       "Loading pipeline components...:   0%|          | 0/7 [00:00<?, ?it/s]"
      ]
     },
     "metadata": {},
     "output_type": "display_data"
    }
   ],
   "source": [
    "pipe = StableDiffusionPipeline.from_pretrained(model_id, torch_dtype=torch.float16)\n",
    "pipe = pipe.to(device)\n",
    "\n"
   ]
  },
  {
   "cell_type": "code",
   "execution_count": 3,
   "metadata": {},
   "outputs": [
    {
     "data": {
      "application/vnd.jupyter.widget-view+json": {
       "model_id": "749a57b360f0488dae4b71d20718d99b",
       "version_major": 2,
       "version_minor": 0
      },
      "text/plain": [
       "  0%|          | 0/50 [00:00<?, ?it/s]"
      ]
     },
     "metadata": {},
     "output_type": "display_data"
    },
    {
     "name": "stderr",
     "output_type": "stream",
     "text": [
      "C:\\Users\\dan_d\\AppData\\Local\\Packages\\PythonSoftwareFoundation.Python.3.12_qbz5n2kfra8p0\\LocalCache\\local-packages\\Python312\\site-packages\\diffusers\\models\\attention_processor.py:1279: UserWarning: 1Torch was not compiled with flash attention. (Triggered internally at ..\\aten\\src\\ATen\\native\\transformers\\cuda\\sdp_utils.cpp:263.)\n",
      "  hidden_states = F.scaled_dot_product_attention(\n"
     ]
    }
   ],
   "source": [
    "prompt = \"Building with structural damage\"\n",
    "image = pipe(prompt).images[0]  \n",
    "    \n",
    "image.save(\"building_with_structural_damage.png\")"
   ]
  },
  {
   "cell_type": "code",
   "execution_count": 4,
   "metadata": {},
   "outputs": [
    {
     "data": {
      "application/vnd.jupyter.widget-view+json": {
       "model_id": "ed059ec895854fbcbd2187593a6aed52",
       "version_major": 2,
       "version_minor": 0
      },
      "text/plain": [
       "  0%|          | 0/50 [00:00<?, ?it/s]"
      ]
     },
     "metadata": {},
     "output_type": "display_data"
    }
   ],
   "source": [
    "prompt = \"Concrete wall with major damage\"\n",
    "image = pipe(prompt).images[0]  \n",
    "    \n",
    "image.save(\"concrete_with_structural_damage.png\")"
   ]
  },
  {
   "cell_type": "code",
   "execution_count": 5,
   "metadata": {},
   "outputs": [
    {
     "data": {
      "application/vnd.jupyter.widget-view+json": {
       "model_id": "a00c29bfeadc42169821a2d9e0965e08",
       "version_major": 2,
       "version_minor": 0
      },
      "text/plain": [
       "  0%|          | 0/50 [00:00<?, ?it/s]"
      ]
     },
     "metadata": {},
     "output_type": "display_data"
    }
   ],
   "source": [
    "prompt = \"Wall with damage\"\n",
    "image = pipe(prompt).images[0]  \n",
    "    \n",
    "image.save(\"wall_with_damage.png\")"
   ]
  },
  {
   "cell_type": "code",
   "execution_count": 6,
   "metadata": {},
   "outputs": [
    {
     "data": {
      "application/vnd.jupyter.widget-view+json": {
       "model_id": "52085fe418374647bd7d70307ebcb012",
       "version_major": 2,
       "version_minor": 0
      },
      "text/plain": [
       "  0%|          | 0/50 [00:00<?, ?it/s]"
      ]
     },
     "metadata": {},
     "output_type": "display_data"
    }
   ],
   "source": [
    "prompt = \"Mario and Luigi having an after work drink at a sports bar\"\n",
    "image = pipe(prompt).images[0]  \n",
    "    \n",
    "image.save(\"mario_and_luigi_relax.png\")"
   ]
  },
  {
   "cell_type": "code",
   "execution_count": 7,
   "metadata": {},
   "outputs": [
    {
     "data": {
      "application/vnd.jupyter.widget-view+json": {
       "model_id": "84f89262b0774a88bc7baa89e690e890",
       "version_major": 2,
       "version_minor": 0
      },
      "text/plain": [
       "  0%|          | 0/50 [00:00<?, ?it/s]"
      ]
     },
     "metadata": {},
     "output_type": "display_data"
    }
   ],
   "source": [
    "prompt = \"Melbourne Townhouse\"\n",
    "image = pipe(prompt).images[0]  \n",
    "    \n",
    "image.save(\"melbourne_townhouse.png\")"
   ]
  },
  {
   "cell_type": "code",
   "execution_count": 8,
   "metadata": {},
   "outputs": [
    {
     "data": {
      "application/vnd.jupyter.widget-view+json": {
       "model_id": "a3e8938501584ea3927abb7d58cd146b",
       "version_major": 2,
       "version_minor": 0
      },
      "text/plain": [
       "  0%|          | 0/50 [00:00<?, ?it/s]"
      ]
     },
     "metadata": {},
     "output_type": "display_data"
    }
   ],
   "source": [
    "prompt = \"Melbourne Townhouse with large cracks\"\n",
    "image = pipe(prompt).images[0]  \n",
    "    \n",
    "image.save(\"melbourne_townhouse_cracks.png\")"
   ]
  },
  {
   "cell_type": "code",
   "execution_count": 9,
   "metadata": {},
   "outputs": [
    {
     "data": {
      "application/vnd.jupyter.widget-view+json": {
       "model_id": "f006b242a8ae4470add8ddf47b833a8f",
       "version_major": 2,
       "version_minor": 0
      },
      "text/plain": [
       "  0%|          | 0/50 [00:00<?, ?it/s]"
      ]
     },
     "metadata": {},
     "output_type": "display_data"
    }
   ],
   "source": [
    "prompt = \"Victorian Era Melbourne Townhouse\"\n",
    "image = pipe(prompt).images[0]  \n",
    "    \n",
    "image.save(\"victoarian_melbourne_townhouse.png\")"
   ]
  },
  {
   "cell_type": "code",
   "execution_count": 10,
   "metadata": {},
   "outputs": [
    {
     "data": {
      "application/vnd.jupyter.widget-view+json": {
       "model_id": "634301c1af5646928bbffaab4f90431d",
       "version_major": 2,
       "version_minor": 0
      },
      "text/plain": [
       "  0%|          | 0/50 [00:00<?, ?it/s]"
      ]
     },
     "metadata": {},
     "output_type": "display_data"
    }
   ],
   "source": [
    "prompt = \"Victorian Era Melbourne Townhouse with damage\"\n",
    "image = pipe(prompt).images[0]  \n",
    "    \n",
    "image.save(\"victoarian_melbourne_townhouse_damage.png\")"
   ]
  },
  {
   "cell_type": "code",
   "execution_count": 11,
   "metadata": {},
   "outputs": [
    {
     "data": {
      "application/vnd.jupyter.widget-view+json": {
       "model_id": "9a159d7412014b968e615b387e1f776e",
       "version_major": 2,
       "version_minor": 0
      },
      "text/plain": [
       "  0%|          | 0/50 [00:00<?, ?it/s]"
      ]
     },
     "metadata": {},
     "output_type": "display_data"
    }
   ],
   "source": [
    "prompt = \"road with potholes\"\n",
    "image = pipe(prompt).images[0]  \n",
    "    \n",
    "image.save(\"road_potholes.png\")"
   ]
  },
  {
   "cell_type": "code",
   "execution_count": 22,
   "metadata": {},
   "outputs": [
    {
     "name": "stderr",
     "output_type": "stream",
     "text": [
      "100%|██████████| 50/50 [01:26<00:00,  1.74s/it]\n",
      "100%|██████████| 50/50 [01:26<00:00,  1.74s/it]\n",
      "100%|██████████| 50/50 [01:26<00:00,  1.74s/it]\n",
      "100%|██████████| 50/50 [01:27<00:00,  1.74s/it]\n",
      "100%|██████████| 50/50 [01:25<00:00,  1.72s/it]\n",
      "100%|██████████| 50/50 [01:26<00:00,  1.73s/it]\n",
      "100%|██████████| 50/50 [01:26<00:00,  1.73s/it]\n",
      "100%|██████████| 50/50 [01:26<00:00,  1.73s/it]\n",
      "100%|██████████| 50/50 [01:26<00:00,  1.74s/it]\n",
      "100%|██████████| 50/50 [01:26<00:00,  1.73s/it]\n",
      "100%|██████████| 50/50 [01:26<00:00,  1.74s/it]\n",
      "100%|██████████| 50/50 [01:26<00:00,  1.74s/it]\n",
      "100%|██████████| 50/50 [01:27<00:00,  1.74s/it]\n",
      "100%|██████████| 50/50 [01:26<00:00,  1.74s/it]\n",
      "100%|██████████| 50/50 [01:27<00:00,  1.74s/it]\n",
      "100%|██████████| 50/50 [01:26<00:00,  1.73s/it]\n",
      "100%|██████████| 50/50 [01:26<00:00,  1.74s/it]\n",
      "100%|██████████| 50/50 [01:26<00:00,  1.74s/it]\n",
      "100%|██████████| 50/50 [01:26<00:00,  1.74s/it]\n",
      "100%|██████████| 50/50 [01:26<00:00,  1.73s/it]\n",
      "100%|██████████| 50/50 [01:26<00:00,  1.73s/it]\n",
      "100%|██████████| 50/50 [01:26<00:00,  1.73s/it]\n",
      "100%|██████████| 50/50 [01:26<00:00,  1.73s/it]\n",
      "100%|██████████| 50/50 [01:26<00:00,  1.73s/it]\n",
      "100%|██████████| 50/50 [01:26<00:00,  1.74s/it]\n",
      "100%|██████████| 50/50 [01:26<00:00,  1.74s/it]\n",
      "100%|██████████| 50/50 [01:25<00:00,  1.71s/it]\n",
      "100%|██████████| 50/50 [01:19<00:00,  1.59s/it]\n",
      "100%|██████████| 50/50 [01:19<00:00,  1.59s/it]\n",
      "100%|██████████| 50/50 [01:19<00:00,  1.59s/it]\n",
      "100%|██████████| 50/50 [01:20<00:00,  1.60s/it]\n",
      "100%|██████████| 50/50 [01:19<00:00,  1.59s/it]\n",
      "100%|██████████| 50/50 [01:19<00:00,  1.58s/it]\n",
      "100%|██████████| 50/50 [01:19<00:00,  1.59s/it]\n",
      "100%|██████████| 50/50 [01:24<00:00,  1.68s/it]\n",
      "100%|██████████| 50/50 [01:23<00:00,  1.67s/it]\n",
      "100%|██████████| 50/50 [01:23<00:00,  1.67s/it]\n",
      "100%|██████████| 50/50 [01:23<00:00,  1.67s/it]\n",
      "100%|██████████| 50/50 [01:23<00:00,  1.67s/it]\n",
      "100%|██████████| 50/50 [01:23<00:00,  1.67s/it]\n"
     ]
    }
   ],
   "source": [
    "#let's try and generate different levels of damage\n",
    "#it takes around 86 seconds on this machine to create and save each image\n",
    "#to create a dataset of 4000 images it would take 95.5 hours which is just under 4 days\n",
    "\n",
    "#for i in range(10):\n",
    "    #prompt = \"Wall with no damage\"\n",
    "    #image = pipe(prompt).images[0]  \n",
    "        \n",
    "    #image.save(\"wall_no_damage\"+str(i)+\".png\")\n",
    "\n",
    "    #prompt = \"Wall with minor damage\"\n",
    "    #image = pipe(prompt).images[0]  \n",
    "        \n",
    "    #image.save(\"wall_minor_damage\"+str(i)+\".png\")\n",
    "\n",
    "    #prompt = \"Wall with major damage\"\n",
    "    #image = pipe(prompt).images[0]  \n",
    "        \n",
    "    #image.save(\"wall_major_damage\"+str(i)+\".png\")\n",
    "\n",
    "    #prompt = \"Wall with total damage\"\n",
    "    #image = pipe(prompt).images[0]  \n",
    "        \n",
    "    #image.save(\"wall_total_damage\"+str(i)+\".png\")"
   ]
  },
  {
   "cell_type": "code",
   "execution_count": 12,
   "metadata": {},
   "outputs": [
    {
     "data": {
      "application/vnd.jupyter.widget-view+json": {
       "model_id": "8d27d4406c6d4d5eaf26171f8ed625f4",
       "version_major": 2,
       "version_minor": 0
      },
      "text/plain": [
       "  0%|          | 0/50 [00:00<?, ?it/s]"
      ]
     },
     "metadata": {},
     "output_type": "display_data"
    }
   ],
   "source": [
    "prompt = \"George the Glory gorilla in a bank\"\n",
    "image = pipe(prompt).images[0]  \n",
    "    \n",
    "image.save(\"George_Glory_Gorilla.png\")"
   ]
  },
  {
   "cell_type": "code",
   "execution_count": 13,
   "metadata": {},
   "outputs": [
    {
     "data": {
      "application/vnd.jupyter.widget-view+json": {
       "model_id": "7298bfdb85e34933be2dd7d4a63343b0",
       "version_major": 2,
       "version_minor": 0
      },
      "text/plain": [
       "  0%|          | 0/50 [00:00<?, ?it/s]"
      ]
     },
     "metadata": {},
     "output_type": "display_data"
    }
   ],
   "source": [
    "prompt = \"Border collie wearing a hat and driving a tractor\"\n",
    "image = pipe(prompt).images[0]  \n",
    "    \n",
    "image.save(\"Doggos.png\")"
   ]
  },
  {
   "cell_type": "code",
   "execution_count": 14,
   "metadata": {},
   "outputs": [
    {
     "data": {
      "application/vnd.jupyter.widget-view+json": {
       "model_id": "15bf5980738b4b6f966fb70c6048ee38",
       "version_major": 2,
       "version_minor": 0
      },
      "text/plain": [
       "  0%|          | 0/50 [00:00<?, ?it/s]"
      ]
     },
     "metadata": {},
     "output_type": "display_data"
    }
   ],
   "source": [
    "prompt = \"Ewoks in Perth Western Australia\"\n",
    "image = pipe(prompt).images[0]  \n",
    "    \n",
    "image.save(\"Ewoks.png\")"
   ]
  },
  {
   "cell_type": "code",
   "execution_count": 15,
   "metadata": {},
   "outputs": [
    {
     "data": {
      "application/vnd.jupyter.widget-view+json": {
       "model_id": "becfdfa2248f4792b7b4cb03e61d26f7",
       "version_major": 2,
       "version_minor": 0
      },
      "text/plain": [
       "  0%|          | 0/50 [00:00<?, ?it/s]"
      ]
     },
     "metadata": {},
     "output_type": "display_data"
    }
   ],
   "source": [
    "prompt = \"Blue heeler dog wearing a tuxedo\"\n",
    "image = pipe(prompt).images[0]  \n",
    "    \n",
    "image.save(\"Tux-Dog.png\")"
   ]
  },
  {
   "cell_type": "code",
   "execution_count": 16,
   "metadata": {},
   "outputs": [
    {
     "data": {
      "application/vnd.jupyter.widget-view+json": {
       "model_id": "6bbe0494cf8644478e409ab09a8dc851",
       "version_major": 2,
       "version_minor": 0
      },
      "text/plain": [
       "  0%|          | 0/50 [00:00<?, ?it/s]"
      ]
     },
     "metadata": {},
     "output_type": "display_data"
    }
   ],
   "source": [
    "prompt = \"Dog with a knife looking suspicious\"\n",
    "image = pipe(prompt).images[0]  \n",
    "    \n",
    "image.save(\"Murder_dog.png\")"
   ]
  },
  {
   "cell_type": "code",
   "execution_count": 17,
   "metadata": {},
   "outputs": [
    {
     "data": {
      "application/vnd.jupyter.widget-view+json": {
       "model_id": "f3a35c3b2a79467fbbce636d4eab1083",
       "version_major": 2,
       "version_minor": 0
      },
      "text/plain": [
       "  0%|          | 0/50 [00:00<?, ?it/s]"
      ]
     },
     "metadata": {},
     "output_type": "display_data"
    }
   ],
   "source": [
    "prompt = \"Donkey Kong and King Kong relax with Funky Kong\"\n",
    "image = pipe(prompt).images[0]  \n",
    "    \n",
    "image.save(\"Kong.png\")"
   ]
  },
  {
   "cell_type": "code",
   "execution_count": 18,
   "metadata": {},
   "outputs": [
    {
     "data": {
      "application/vnd.jupyter.widget-view+json": {
       "model_id": "7591c7e23037467bba7c1414547df462",
       "version_major": 2,
       "version_minor": 0
      },
      "text/plain": [
       "  0%|          | 0/50 [00:00<?, ?it/s]"
      ]
     },
     "metadata": {},
     "output_type": "display_data"
    }
   ],
   "source": [
    "prompt = \"Hyper realistic monkey monarch wearing kingly crown\"\n",
    "image = pipe(prompt).images[0]  \n",
    "    \n",
    "image.save(\"monke.png\")"
   ]
  },
  {
   "cell_type": "code",
   "execution_count": 19,
   "metadata": {},
   "outputs": [
    {
     "data": {
      "application/vnd.jupyter.widget-view+json": {
       "model_id": "ead2267be390478b8f9c0e9e21fcb06a",
       "version_major": 2,
       "version_minor": 0
      },
      "text/plain": [
       "  0%|          | 0/50 [00:00<?, ?it/s]"
      ]
     },
     "metadata": {},
     "output_type": "display_data"
    }
   ],
   "source": [
    "prompt = \"Donkey Kong with hyper realistic Julius Ceasar and the Ides of March\"\n",
    "image = pipe(prompt).images[0]  \n",
    "    \n",
    "image.save(\"March.png\")"
   ]
  },
  {
   "cell_type": "code",
   "execution_count": 3,
   "metadata": {},
   "outputs": [
    {
     "data": {
      "application/vnd.jupyter.widget-view+json": {
       "model_id": "3d99a2b54a584846bc1769a8cac278b0",
       "version_major": 2,
       "version_minor": 0
      },
      "text/plain": [
       "  0%|          | 0/50 [00:00<?, ?it/s]"
      ]
     },
     "metadata": {},
     "output_type": "display_data"
    },
    {
     "name": "stderr",
     "output_type": "stream",
     "text": [
      "C:\\Users\\dan_d\\AppData\\Local\\Packages\\PythonSoftwareFoundation.Python.3.12_qbz5n2kfra8p0\\LocalCache\\local-packages\\Python312\\site-packages\\diffusers\\models\\attention_processor.py:1279: UserWarning: 1Torch was not compiled with flash attention. (Triggered internally at ..\\aten\\src\\ATen\\native\\transformers\\cuda\\sdp_utils.cpp:263.)\n",
      "  hidden_states = F.scaled_dot_product_attention(\n"
     ]
    }
   ],
   "source": [
    "prompt = \"Manchest United Home Game\"\n",
    "image = pipe(prompt).images[0]  \n",
    "    \n",
    "image.save(\"Man_U.png\")"
   ]
  },
  {
   "cell_type": "code",
   "execution_count": 4,
   "metadata": {},
   "outputs": [
    {
     "data": {
      "application/vnd.jupyter.widget-view+json": {
       "model_id": "e2edff6d63624adbbace41193db5b087",
       "version_major": 2,
       "version_minor": 0
      },
      "text/plain": [
       "  0%|          | 0/50 [00:00<?, ?it/s]"
      ]
     },
     "metadata": {},
     "output_type": "display_data"
    }
   ],
   "source": [
    "prompt = \"Ange Postecoglou sad\"\n",
    "image = pipe(prompt).images[0]  \n",
    "    \n",
    "image.save(\"Sad_ange.png\")"
   ]
  },
  {
   "cell_type": "code",
   "execution_count": 5,
   "metadata": {},
   "outputs": [
    {
     "data": {
      "application/vnd.jupyter.widget-view+json": {
       "model_id": "0fc92e29ebd04568a7bd102d4ef43a11",
       "version_major": 2,
       "version_minor": 0
      },
      "text/plain": [
       "  0%|          | 0/50 [00:00<?, ?it/s]"
      ]
     },
     "metadata": {},
     "output_type": "display_data"
    }
   ],
   "source": [
    "prompt = \"Jeff feeding the kookaburras and magpies\"\n",
    "image = pipe(prompt).images[0]  \n",
    "    \n",
    "image.save(\"bird.png\")"
   ]
  }
 ],
 "metadata": {
  "kernelspec": {
   "display_name": "Python 3",
   "language": "python",
   "name": "python3"
  },
  "language_info": {
   "codemirror_mode": {
    "name": "ipython",
    "version": 3
   },
   "file_extension": ".py",
   "mimetype": "text/x-python",
   "name": "python",
   "nbconvert_exporter": "python",
   "pygments_lexer": "ipython3",
   "version": "3.12.2"
  }
 },
 "nbformat": 4,
 "nbformat_minor": 2
}
