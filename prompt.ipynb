{
 "cells": [
  {
   "cell_type": "code",
   "execution_count": 1,
   "metadata": {},
   "outputs": [
    {
     "name": "stderr",
     "output_type": "stream",
     "text": [
      "C:\\Users\\dan_d\\AppData\\Local\\Packages\\PythonSoftwareFoundation.Python.3.11_qbz5n2kfra8p0\\LocalCache\\local-packages\\Python311\\site-packages\\tqdm\\auto.py:21: TqdmWarning: IProgress not found. Please update jupyter and ipywidgets. See https://ipywidgets.readthedocs.io/en/stable/user_install.html\n",
      "  from .autonotebook import tqdm as notebook_tqdm\n"
     ]
    }
   ],
   "source": [
    "import torch\n",
    "from diffusers import StableDiffusionPipeline\n",
    "\n",
    "#older version of stable diffusion\n",
    "model_id = \"runwayml/stable-diffusion-v1-5\"\n",
    "device = \"cuda\""
   ]
  },
  {
   "cell_type": "code",
   "execution_count": 2,
   "metadata": {},
   "outputs": [
    {
     "name": "stderr",
     "output_type": "stream",
     "text": [
      "Loading pipeline components...: 100%|██████████| 7/7 [00:10<00:00,  1.44s/it]\n"
     ]
    }
   ],
   "source": [
    "pipe = StableDiffusionPipeline.from_pretrained(model_id, torch_dtype=torch.float16)\n",
    "pipe = pipe.to(device)\n"
   ]
  },
  {
   "cell_type": "code",
   "execution_count": 3,
   "metadata": {},
   "outputs": [
    {
     "name": "stderr",
     "output_type": "stream",
     "text": [
      "  0%|          | 0/50 [00:00<?, ?it/s]C:\\Users\\dan_d\\AppData\\Local\\Packages\\PythonSoftwareFoundation.Python.3.11_qbz5n2kfra8p0\\LocalCache\\local-packages\\Python311\\site-packages\\diffusers\\models\\attention_processor.py:1279: UserWarning: 1Torch was not compiled with flash attention. (Triggered internally at ..\\aten\\src\\ATen\\native\\transformers\\cuda\\sdp_utils.cpp:263.)\n",
      "  hidden_states = F.scaled_dot_product_attention(\n",
      "100%|██████████| 50/50 [01:11<00:00,  1.43s/it]\n"
     ]
    }
   ],
   "source": [
    "prompt = \"Generate a realistic image of a concrete building.\"\n",
    "image = pipe(prompt).images[0]  \n",
    "    \n",
    "image.save(\"chatprompt1.png\")"
   ]
  },
  {
   "cell_type": "code",
   "execution_count": 4,
   "metadata": {},
   "outputs": [
    {
     "name": "stderr",
     "output_type": "stream",
     "text": [
      "100%|██████████| 50/50 [01:10<00:00,  1.42s/it]\n"
     ]
    }
   ],
   "source": [
    "prompt = \"Generate a realistic image of a concrete building with visible signs of damage, such as spalling, cracks, and weathering.\"\n",
    "image = pipe(prompt).images[0]  \n",
    "    \n",
    "image.save(\"chatprompt2.png\")"
   ]
  },
  {
   "cell_type": "code",
   "execution_count": 5,
   "metadata": {},
   "outputs": [
    {
     "name": "stderr",
     "output_type": "stream",
     "text": [
      "100%|██████████| 50/50 [01:10<00:00,  1.42s/it]\n"
     ]
    }
   ],
   "source": [
    "prompt = \"Generate images of concrete buildings depicting varying degrees of damage: One image with minor spalling and small cracks.\"\n",
    "image = pipe(prompt).images[0]  \n",
    "    \n",
    "image.save(\"chatprompt3.png\")"
   ]
  },
  {
   "cell_type": "code",
   "execution_count": 6,
   "metadata": {},
   "outputs": [
    {
     "name": "stderr",
     "output_type": "stream",
     "text": [
      "100%|██████████| 50/50 [01:10<00:00,  1.42s/it]\n"
     ]
    }
   ],
   "source": [
    "prompt = \"Another image with moderate spalling, larger cracks, and some exposed rebar.\"\n",
    "image = pipe(prompt).images[0]  \n",
    "    \n",
    "image.save(\"chatprompt4.png\")"
   ]
  },
  {
   "cell_type": "code",
   "execution_count": 7,
   "metadata": {},
   "outputs": [
    {
     "name": "stderr",
     "output_type": "stream",
     "text": [
      "100%|██████████| 50/50 [01:10<00:00,  1.42s/it]\n"
     ]
    }
   ],
   "source": [
    "prompt = \"A third image showing severe damage with extensive spalling, multiple large cracks, and significant exposed rebar.\"\n",
    "image = pipe(prompt).images[0]  \n",
    "    \n",
    "image.save(\"chatprompt5.png\")"
   ]
  },
  {
   "cell_type": "code",
   "execution_count": 8,
   "metadata": {},
   "outputs": [
    {
     "name": "stderr",
     "output_type": "stream",
     "text": [
      "100%|██████████| 50/50 [01:11<00:00,  1.42s/it]\n"
     ]
    }
   ],
   "source": [
    "prompt = \"Produce images of concrete structures: One image showing spalling on the facade with noticeable cracks.\"\n",
    "image = pipe(prompt).images[0]  \n",
    "    \n",
    "image.save(\"chatprompt6.png\")"
   ]
  },
  {
   "cell_type": "code",
   "execution_count": 9,
   "metadata": {},
   "outputs": [
    {
     "name": "stderr",
     "output_type": "stream",
     "text": [
      "100%|██████████| 50/50 [01:11<00:00,  1.42s/it]\n"
     ]
    }
   ],
   "source": [
    "prompt = \"Another image focusing on a corner where concrete has chipped away, revealing exposed rebar.\"\n",
    "image = pipe(prompt).images[0]  \n",
    "    \n",
    "image.save(\"chatprompt7.png\")"
   ]
  },
  {
   "cell_type": "code",
   "execution_count": 10,
   "metadata": {},
   "outputs": [
    {
     "name": "stderr",
     "output_type": "stream",
     "text": [
      "100%|██████████| 50/50 [01:11<00:00,  1.42s/it]\n"
     ]
    }
   ],
   "source": [
    "prompt = \"An additional image illustrating a large crack running vertically along the wall.\"\n",
    "image = pipe(prompt).images[0]  \n",
    "    \n",
    "image.save(\"chatprompt8.png\")"
   ]
  },
  {
   "cell_type": "code",
   "execution_count": 11,
   "metadata": {},
   "outputs": [
    {
     "name": "stderr",
     "output_type": "stream",
     "text": [
      "100%|██████████| 50/50 [01:11<00:00,  1.42s/it]\n"
     ]
    }
   ],
   "source": [
    "prompt = \"Generate a series of images showcasing realistic concrete buildings with varying levels of deterioration, including spalling, visible cracks, and exposed reinforcement bars (rebar). Ensure each image is unique in terms of damage appearance and severity.\"\n",
    "image = pipe(prompt).images[0]  \n",
    "    \n",
    "image.save(\"chatprompt9.png\")"
   ]
  },
  {
   "cell_type": "code",
   "execution_count": 12,
   "metadata": {},
   "outputs": [
    {
     "name": "stderr",
     "output_type": "stream",
     "text": [
      "100%|██████████| 50/50 [01:11<00:00,  1.42s/it]\n"
     ]
    }
   ],
   "source": [
    "prompt = \"Generate images of concrete buildings under different environmental conditions: Some images in daylight with subtle damage.\"\n",
    "image = pipe(prompt).images[0]  \n",
    "    \n",
    "image.save(\"chatprompt10.png\")"
   ]
  },
  {
   "cell_type": "code",
   "execution_count": 13,
   "metadata": {},
   "outputs": [
    {
     "name": "stderr",
     "output_type": "stream",
     "text": [
      "100%|██████████| 50/50 [01:11<00:00,  1.42s/it]\n"
     ]
    }
   ],
   "source": [
    "prompt = \"Others at dusk or dawn to highlight shadows and textures of more significant damage like exposed rebar and large cracks\"\n",
    "image = pipe(prompt).images[0]  \n",
    "    \n",
    "image.save(\"chatprompt11.png\")"
   ]
  },
  {
   "cell_type": "code",
   "execution_count": 14,
   "metadata": {},
   "outputs": [
    {
     "name": "stderr",
     "output_type": "stream",
     "text": [
      "100%|██████████| 50/50 [01:10<00:00,  1.42s/it]\n"
     ]
    }
   ],
   "source": [
    "prompt = \"Generate images of weathered concrete buildings with: Natural elements such as moss and algae growing on damaged areas.\"\n",
    "image = pipe(prompt).images[0]  \n",
    "    \n",
    "image.save(\"chatprompt12.png\")"
   ]
  },
  {
   "cell_type": "code",
   "execution_count": 15,
   "metadata": {},
   "outputs": [
    {
     "name": "stderr",
     "output_type": "stream",
     "text": [
      "100%|██████████| 50/50 [01:10<00:00,  1.42s/it]\n"
     ]
    }
   ],
   "source": [
    "prompt = \"Surroundings that complement the deteriorating building, such as overgrown vegetation or urban decay.\"\n",
    "image = pipe(prompt).images[0]  \n",
    "    \n",
    "image.save(\"chatprompt13.png\")"
   ]
  }
 ],
 "metadata": {
  "kernelspec": {
   "display_name": "Python 3",
   "language": "python",
   "name": "python3"
  },
  "language_info": {
   "codemirror_mode": {
    "name": "ipython",
    "version": 3
   },
   "file_extension": ".py",
   "mimetype": "text/x-python",
   "name": "python",
   "nbconvert_exporter": "python",
   "pygments_lexer": "ipython3",
   "version": "3.11.9"
  }
 },
 "nbformat": 4,
 "nbformat_minor": 2
}
