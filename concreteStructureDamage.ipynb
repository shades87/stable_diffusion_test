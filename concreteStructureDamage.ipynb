{
 "cells": [
  {
   "cell_type": "code",
   "execution_count": 1,
   "metadata": {},
   "outputs": [
    {
     "name": "stderr",
     "output_type": "stream",
     "text": [
      "C:\\Users\\dan_d\\AppData\\Local\\Packages\\PythonSoftwareFoundation.Python.3.11_qbz5n2kfra8p0\\LocalCache\\local-packages\\Python311\\site-packages\\tqdm\\auto.py:21: TqdmWarning: IProgress not found. Please update jupyter and ipywidgets. See https://ipywidgets.readthedocs.io/en/stable/user_install.html\n",
      "  from .autonotebook import tqdm as notebook_tqdm\n"
     ]
    }
   ],
   "source": [
    "import torch\n",
    "from diffusers import StableDiffusionPipeline\n",
    "\n",
    "#older version of stable diffusion\n",
    "model_id = \"runwayml/stable-diffusion-v1-5\"\n",
    "device = \"cuda\""
   ]
  },
  {
   "cell_type": "code",
   "execution_count": 2,
   "metadata": {},
   "outputs": [
    {
     "name": "stderr",
     "output_type": "stream",
     "text": [
      "Loading pipeline components...: 100%|██████████| 7/7 [00:08<00:00,  1.28s/it]\n"
     ]
    }
   ],
   "source": [
    "pipe = StableDiffusionPipeline.from_pretrained(model_id, torch_dtype=torch.float16)\n",
    "pipe = pipe.to(device)"
   ]
  },
  {
   "cell_type": "code",
   "execution_count": 4,
   "metadata": {},
   "outputs": [
    {
     "name": "stderr",
     "output_type": "stream",
     "text": [
      "100%|██████████| 50/50 [01:12<00:00,  1.46s/it]\n"
     ]
    }
   ],
   "source": [
    "prompt = \"Concrete structure with damage including spalling, rebar showing and cracks\"\n",
    "image = pipe(prompt).images[0]  \n",
    "    \n",
    "image.save(\"Damage01.png\")"
   ]
  },
  {
   "cell_type": "code",
   "execution_count": 5,
   "metadata": {},
   "outputs": [
    {
     "name": "stderr",
     "output_type": "stream",
     "text": [
      "100%|██████████| 50/50 [01:12<00:00,  1.46s/it]\n",
      "100%|██████████| 50/50 [01:13<00:00,  1.46s/it]\n",
      "100%|██████████| 50/50 [01:13<00:00,  1.46s/it]\n",
      "100%|██████████| 50/50 [01:13<00:00,  1.46s/it]\n",
      "100%|██████████| 50/50 [01:13<00:00,  1.46s/it]\n",
      "100%|██████████| 50/50 [01:13<00:00,  1.46s/it]\n",
      "100%|██████████| 50/50 [01:13<00:00,  1.46s/it]\n",
      "100%|██████████| 50/50 [01:13<00:00,  1.47s/it]\n",
      "100%|██████████| 50/50 [01:13<00:00,  1.47s/it]\n",
      "100%|██████████| 50/50 [01:12<00:00,  1.45s/it]\n",
      "100%|██████████| 50/50 [01:10<00:00,  1.42s/it]\n",
      "100%|██████████| 50/50 [01:11<00:00,  1.42s/it]\n",
      "100%|██████████| 50/50 [01:11<00:00,  1.43s/it]\n",
      "100%|██████████| 50/50 [01:13<00:00,  1.47s/it]\n",
      "100%|██████████| 50/50 [01:13<00:00,  1.47s/it]\n",
      "100%|██████████| 50/50 [01:13<00:00,  1.47s/it]\n",
      "100%|██████████| 50/50 [01:13<00:00,  1.47s/it]\n",
      "100%|██████████| 50/50 [01:13<00:00,  1.47s/it]\n",
      "100%|██████████| 50/50 [01:13<00:00,  1.47s/it]\n",
      "100%|██████████| 50/50 [01:13<00:00,  1.47s/it]\n",
      "100%|██████████| 50/50 [01:13<00:00,  1.47s/it]\n",
      "100%|██████████| 50/50 [01:13<00:00,  1.47s/it]\n",
      "100%|██████████| 50/50 [01:13<00:00,  1.47s/it]\n",
      "100%|██████████| 50/50 [01:13<00:00,  1.47s/it]\n",
      "100%|██████████| 50/50 [01:13<00:00,  1.47s/it]\n",
      "100%|██████████| 50/50 [01:13<00:00,  1.47s/it]\n",
      "100%|██████████| 50/50 [01:13<00:00,  1.47s/it]\n",
      "100%|██████████| 50/50 [01:13<00:00,  1.47s/it]\n",
      "100%|██████████| 50/50 [01:13<00:00,  1.47s/it]\n",
      "100%|██████████| 50/50 [01:13<00:00,  1.47s/it]\n",
      "100%|██████████| 50/50 [01:13<00:00,  1.47s/it]\n",
      "100%|██████████| 50/50 [01:13<00:00,  1.47s/it]\n",
      "100%|██████████| 50/50 [01:13<00:00,  1.47s/it]\n",
      "100%|██████████| 50/50 [01:13<00:00,  1.46s/it]\n",
      "100%|██████████| 50/50 [01:13<00:00,  1.47s/it]\n",
      "100%|██████████| 50/50 [01:13<00:00,  1.47s/it]\n",
      "100%|██████████| 50/50 [01:13<00:00,  1.47s/it]\n",
      "100%|██████████| 50/50 [01:13<00:00,  1.47s/it]\n",
      "100%|██████████| 50/50 [01:13<00:00,  1.47s/it]\n",
      "100%|██████████| 50/50 [01:13<00:00,  1.47s/it]\n"
     ]
    }
   ],
   "source": [
    "for i in range(10):\n",
    "    prompt = \"Concrete structure\"\n",
    "    image = pipe(prompt).images[0]  \n",
    "        \n",
    "    image.save(\"structure\"+str(i)+\".png\")\n",
    "\n",
    "    prompt = \"Concrete Strucure with spalling\"\n",
    "    image = pipe(prompt).images[0]  \n",
    "        \n",
    "    image.save(\"structure_with_spalling\"+str(i)+\".png\")\n",
    "\n",
    "    prompt = \"Conctrete Structure with cracks\"\n",
    "    image = pipe(prompt).images[0]  \n",
    "        \n",
    "    image.save(\"structure_with_cracks\"+str(i)+\".png\")\n",
    "\n",
    "    prompt = \"Concrete Structure with rebar showing\"\n",
    "    image = pipe(prompt).images[0]  \n",
    "        \n",
    "    image.save(\"structure_with_rebar\"+str(i)+\".png\")"
   ]
  }
 ],
 "metadata": {
  "kernelspec": {
   "display_name": "Python 3",
   "language": "python",
   "name": "python3"
  },
  "language_info": {
   "codemirror_mode": {
    "name": "ipython",
    "version": 3
   },
   "file_extension": ".py",
   "mimetype": "text/x-python",
   "name": "python",
   "nbconvert_exporter": "python",
   "pygments_lexer": "ipython3",
   "version": "3.11.8"
  }
 },
 "nbformat": 4,
 "nbformat_minor": 2
}
